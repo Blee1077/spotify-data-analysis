{
 "cells": [
  {
   "cell_type": "code",
   "execution_count": null,
   "id": "d61b5dc7-bca7-4111-ba47-0104ad16fd1a",
   "metadata": {},
   "outputs": [],
   "source": [
    "from bs4 import BeautifulSoup\n",
    "import requests, sys, json\n",
    "import time\n",
    "\n",
    "BASE_SAVE_PATH = r'C:\\Users\\Brandon\\git\\spotify-recommender-system\\data\\raw'"
   ]
  },
  {
   "cell_type": "code",
   "execution_count": null,
   "id": "14dac703-b630-477c-b0b0-c3498f51b49d",
   "metadata": {},
   "outputs": [],
   "source": [
    "## Request HTML\n",
    "r = requests.get(\"http://everynoise.com/engenremap.html\")\n",
    "\n",
    "## Parse Genre HTML Elements\n",
    "soup = BeautifulSoup(r.content, \"html.parser\")\n",
    "allGenreDivs = soup.find_all(\"div\", \"genre scanme\")"
   ]
  },
  {
   "cell_type": "code",
   "execution_count": null,
   "id": "0c1364ef-5ec6-45e0-9110-5a9456ed192c",
   "metadata": {
    "tags": []
   },
   "outputs": [],
   "source": [
    "## Cycle through genres and go to that genres page\n",
    "artist_mapping = {}\n",
    "genre_mapping = {}\n",
    "genreCnt = 0\n",
    "for genreDiv in allGenreDivs:\n",
    "    if (genreCnt % 10) == 0:\n",
    "        print(\"Pulling genre #\" + str(genreCnt))\n",
    "        sys.stdout.flush()\n",
    "        \n",
    "    genre = genreDiv.text.strip().replace('»', '')\n",
    "    if genre not in genre_mapping:\n",
    "        genre_mapping[genre] = []\n",
    "        \n",
    "    genrePage = \"http://everynoise.com/engenremap-\" + str.replace(genre,\" \", \"\") + \".html\"\n",
    "\n",
    "    ## Pull artists from genre page\n",
    "    r2 = requests.get(\n",
    "        genrePage,\n",
    "        headers={'User-agent': 'Mozilla/5.0 (Windows NT 10.0; Win64; x64) AppleWebKit/537.36 (KHTML, like Gecko) Chrome/99.0.4844.51 Safari/537.36'},\n",
    "        timeout=120\n",
    "    )\n",
    "    soup2 = BeautifulSoup(r2.content, \"html.parser\")\n",
    "    allArtistDivs = soup2.find_all(\"div\", \"genre scanme\")\n",
    "\n",
    "    for artist in allArtistDivs:\n",
    "        artistName = artist.text.strip().replace('»', '')\n",
    "        \n",
    "        if not(artistName.isspace()):\n",
    "            \n",
    "            if artistName not in artist_mapping:\n",
    "                artist_mapping[artistName] = [genre]\n",
    "            else:\n",
    "                artist_mapping[artistName].append(genre)\n",
    "                \n",
    "            genre_mapping[genre].append(artistName) \n",
    "            \n",
    "    genreCnt = genreCnt+1\n",
    "    \n",
    "    time.sleep(2)"
   ]
  },
  {
   "cell_type": "code",
   "execution_count": null,
   "id": "9a835f34-8d19-4915-9dc3-20439c612fc9",
   "metadata": {},
   "outputs": [],
   "source": [
    "with open(f'{BASE_SAVE_PATH}\\genre_artist_mapping.json', 'w') as fp:\n",
    "    json.dump(genre_mapping, fp)\n",
    "    \n",
    "with open(f'{BASE_SAVE_PATH}\\artist_genre_mapping.json', 'w') as fp:\n",
    "    json.dump(artist_mapping, fp)"
   ]
  }
 ],
 "metadata": {
  "kernelspec": {
   "display_name": "Python 3 (ipykernel)",
   "language": "python",
   "name": "python3"
  },
  "language_info": {
   "codemirror_mode": {
    "name": "ipython",
    "version": 3
   },
   "file_extension": ".py",
   "mimetype": "text/x-python",
   "name": "python",
   "nbconvert_exporter": "python",
   "pygments_lexer": "ipython3",
   "version": "3.9.7"
  }
 },
 "nbformat": 4,
 "nbformat_minor": 5
}
