{
 "cells": [
  {
   "cell_type": "markdown",
   "id": "4e44115c-f648-4ccf-8f45-90089a8f5a7f",
   "metadata": {},
   "source": [
    "# Scrape artist and genre data from Every Noise At Once\n",
    "This notebook was taken from [aweitz's EveryNoise repo](https://github.com/aweitz/EveryNoise). I've had to update it and make some improvements as it was last updated 5 years ago (as of 2022/07/03)."
   ]
  },
  {
   "cell_type": "code",
   "execution_count": null,
   "id": "d61b5dc7-bca7-4111-ba47-0104ad16fd1a",
   "metadata": {},
   "outputs": [],
   "source": [
    "from bs4 import BeautifulSoup\n",
    "import requests, sys, json\n",
    "import time\n",
    "\n",
    "BASE_SAVE_PATH = r'C:\\Users\\Brandon\\git\\spotify-recommender-system\\data\\raw'\n",
    "GENRE_ARTIST_MAPPING_FP = f'{BASE_SAVE_PATH}\\genre_artist_mapping.json'\n",
    "ARTIST_GENRE_MAPPING_FP = f'{BASE_SAVE_PATH}\\artist_genre_mapping.json'"
   ]
  },
  {
   "cell_type": "code",
   "execution_count": null,
   "id": "14dac703-b630-477c-b0b0-c3498f51b49d",
   "metadata": {},
   "outputs": [],
   "source": [
    "# Request HTML\n",
    "r = requests.get(\"http://everynoise.com/engenremap.html\")\n",
    "\n",
    "# Parse Genre HTML Elements\n",
    "soup = BeautifulSoup(r.content, \"html.parser\")\n",
    "allGenreDivs = soup.find_all(\"div\", \"genre scanme\")"
   ]
  },
  {
   "cell_type": "code",
   "execution_count": null,
   "id": "0c1364ef-5ec6-45e0-9110-5a9456ed192c",
   "metadata": {
    "tags": []
   },
   "outputs": [],
   "source": [
    "## Cycle through genres and go to that genres page\n",
    "artist_mapping = {}\n",
    "genre_mapping = {}\n",
    "genreCnt = 0\n",
    "\n",
    "for genreDiv in allGenreDivs:\n",
    "    \n",
    "    # Print progress status\n",
    "    if (genreCnt % 10) == 0:\n",
    "        print(\"Pulling genre #\" + str(genreCnt))\n",
    "        \n",
    "    # Get genre\n",
    "    genre = genreDiv.text.strip().replace('»', '')\n",
    "    if genre not in genre_mapping:\n",
    "        genre_mapping[genre] = []\n",
    "        \n",
    "    # Build URL for current genre\n",
    "    genrePage = \"http://everynoise.com/engenremap-\" + str.replace(genre,\" \", \"\") + \".html\"\n",
    "\n",
    "    # Pull artists from genre page\n",
    "    r2 = requests.get(\n",
    "        genrePage,\n",
    "        headers={'User-agent': 'Mozilla/5.0 (Windows NT 10.0; Win64; x64) AppleWebKit/537.36 (KHTML, like Gecko) Chrome/99.0.4844.51 Safari/537.36'},\n",
    "        timeout=120\n",
    "    )\n",
    "    soup2 = BeautifulSoup(r2.content, \"html.parser\")\n",
    "    allArtistDivs = soup2.find_all(\"div\", \"genre scanme\")\n",
    "\n",
    "    # Add artist and genre to both artist-genre and genre-artist mappings\n",
    "    for artist in allArtistDivs:\n",
    "        artistName = artist.text.strip().replace('»', '')\n",
    "        \n",
    "        if not(artistName.isspace()):\n",
    "            \n",
    "            if artistName not in artist_mapping:\n",
    "                artist_mapping[artistName] = [genre]\n",
    "            else:\n",
    "                artist_mapping[artistName].append(genre)\n",
    "                \n",
    "            genre_mapping[genre].append(artistName) \n",
    "            \n",
    "    genreCnt = genreCnt+1\n",
    "    \n",
    "    # Give the server a rest before making another request\n",
    "    time.sleep(2)"
   ]
  },
  {
   "cell_type": "code",
   "execution_count": null,
   "id": "9a835f34-8d19-4915-9dc3-20439c612fc9",
   "metadata": {},
   "outputs": [],
   "source": [
    "# Save data locally\n",
    "with open(GENRE_ARTIST_MAPPING_FP, 'w') as fp:\n",
    "    json.dump(genre_mapping, fp)\n",
    "    \n",
    "with open(ARTIST_GENRE_MAPPING_FP, 'w') as fp:\n",
    "    json.dump(artist_mapping, fp)"
   ]
  }
 ],
 "metadata": {
  "kernelspec": {
   "display_name": "Python 3 (ipykernel)",
   "language": "python",
   "name": "python3"
  },
  "language_info": {
   "codemirror_mode": {
    "name": "ipython",
    "version": 3
   },
   "file_extension": ".py",
   "mimetype": "text/x-python",
   "name": "python",
   "nbconvert_exporter": "python",
   "pygments_lexer": "ipython3",
   "version": "3.9.7"
  }
 },
 "nbformat": 4,
 "nbformat_minor": 5
}
